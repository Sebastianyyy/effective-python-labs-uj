{
 "cells": [
  {
   "cell_type": "markdown",
   "metadata": {},
   "source": [
    "## Lab 04"
   ]
  },
  {
   "cell_type": "markdown",
   "metadata": {},
   "source": [
    "## Zadanie 1 (Igor Sieradzki)"
   ]
  },
  {
   "cell_type": "markdown",
   "metadata": {},
   "source": [
    "Funkcja <t>flow_rate</i> do modyfikacji"
   ]
  },
  {
   "cell_type": "code",
   "execution_count": 72,
   "metadata": {
    "collapsed": true
   },
   "outputs": [],
   "source": [
    "def flow_rate(weight, time, period=1, units_per_kg=1):\n",
    "    \"\"\" Funkcja wylicza ile wagi produktu przybyło/ubyło w jednostce czasu \"\"\"\n",
    "    if not isinstance(units_per_kg,int):\n",
    "        raise TypeError\n",
    "    return (weight*units_per_kg / time) * period\n",
    "\n",
    "weight = 0.5\n",
    "time = 3"
   ]
  },
  {
   "cell_type": "code",
   "execution_count": 73,
   "metadata": {
    "collapsed": true
   },
   "outputs": [
    {
     "name": "stdout",
     "output_type": "stream",
     "text": [
      "0.167 kg per second\n"
     ]
    }
   ],
   "source": [
    "flow = flow_rate(weight, time)\n",
    "print(\"{0:.3} kg per second\".format(flow))"
   ]
  },
  {
   "cell_type": "code",
   "execution_count": 74,
   "metadata": {
    "collapsed": true
   },
   "outputs": [],
   "source": [
    "# Zmodyfikuj funckje <i>flow_rate</i> tak, aby poniższe wywołania działały poprawnie."
   ]
  },
  {
   "cell_type": "code",
   "execution_count": 75,
   "metadata": {
    "collapsed": true
   },
   "outputs": [
    {
     "name": "stdout",
     "output_type": "stream",
     "text": [
      "10000.0 grams per minute\n"
     ]
    }
   ],
   "source": [
    "flow = flow_rate(weight, time, period=60, units_per_kg=1000)\n",
    "print(\"{} grams per minute\".format(flow))"
   ]
  },
  {
   "cell_type": "code",
   "execution_count": 76,
   "metadata": {
    "collapsed": true
   },
   "outputs": [
    {
     "name": "stdout",
     "output_type": "stream",
     "text": [
      "0.167 kg per second\n"
     ]
    }
   ],
   "source": [
    "flow = flow_rate(weight, time, period=1, units_per_kg=1)\n",
    "print(\"{0:.3} kg per second\".format(flow))\n"
   ]
  },
  {
   "cell_type": "code",
   "execution_count": 77,
   "metadata": {
    "collapsed": true
   },
   "outputs": [
    {
     "name": "stdout",
     "output_type": "stream",
     "text": [
      "0.167 grams per minute\n"
     ]
    }
   ],
   "source": [
    "flow = flow_rate(weight, time)\n",
    "print(\"{0:.3} grams per minute\".format(flow))"
   ]
  },
  {
   "cell_type": "markdown",
   "metadata": {},
   "source": [
    "Wyjaśnić czemu poniższe rzucanie błędu jest porządane"
   ]
  },
  {
   "cell_type": "code",
   "execution_count": 78,
   "metadata": {
    "collapsed": true
   },
   "outputs": [
    {
     "name": "stdout",
     "output_type": "stream",
     "text": [
      "True\n"
     ]
    }
   ],
   "source": [
    "try:\n",
    "    flow = flow_rate(weight, time, 3600, 2.2)\n",
    "except TypeError:\n",
    "    print(True)"
   ]
  },
  {
   "cell_type": "markdown",
   "metadata": {},
   "source": [
    "## Zadanie 2 (Igor Sieradzki)"
   ]
  },
  {
   "cell_type": "markdown",
   "metadata": {},
   "source": [
    "Dopisz definicje dekoratora _timeit_, który wypisze na wyjscie standardowe czas wywołania udekorowanej funckji np.\n",
    "\n",
    "```\n",
    "@timeit\n",
    "def foo(x):\n",
    "    return x**2\n",
    "    \n",
    "r = foo(2)\n",
    "```\n",
    "wypize: <br>\n",
    "    `Function foo took: 0.00001 seconds` <br>\n",
    "oraz zwróci 4"
   ]
  },
  {
   "cell_type": "code",
   "execution_count": 88,
   "metadata": {
    "collapsed": true
   },
   "outputs": [
    {
     "name": "stdout",
     "output_type": "stream",
     "text": [
      "Funtion squares_list took: 0.07375025749206543 seconds\n",
      "Funtion squares_comprehension took: 0.060964345932006836 seconds\n",
      "Funtion squares_map took: 0.0 seconds\n"
     ]
    }
   ],
   "source": [
    "from time import time\n",
    "\n",
    "def timeit(func):\n",
    "    \"\"\" Wypisuje czas wywołania udekorowanej funckji \"\"\"\n",
    "    def wrapper(*args, **kwargs):\n",
    "        begin = time()\n",
    "        val=func(*args,**kwargs)\n",
    "        end=time()\n",
    "        print(f\"Funtion {func.__name__} took: {end-begin} seconds\")\n",
    "        return val\n",
    "    return wrapper\n",
    "\n",
    "\n",
    "@timeit\n",
    "def squares_list(n):\n",
    "    squares = []\n",
    "    for i in range(n):\n",
    "        squares.append(i ** 2)\n",
    "    return squares\n",
    "\n",
    "@timeit\n",
    "def squares_comprehension(n):\n",
    "    return [i ** 2 for i in range(n)]\n",
    "\n",
    "@timeit\n",
    "def squares_map(n):\n",
    "    return map(lambda x: x**2, range(n))\n",
    "\n",
    "n = 1000000\n",
    "l = squares_list(n)\n",
    "c = squares_comprehension(n)\n",
    "m = squares_map(n)\n"
   ]
  },
  {
   "cell_type": "markdown",
   "metadata": {},
   "source": [
    "## Zadanie 3 (Igor Sieradzki)"
   ]
  },
  {
   "cell_type": "markdown",
   "metadata": {},
   "source": [
    "Dopisz definicje dekoratora _derivate_ wg. instrukcji w _docstringu_"
   ]
  },
  {
   "cell_type": "code",
   "execution_count": 16,
   "metadata": {
    "collapsed": true
   },
   "outputs": [
    {
     "name": "stdout",
     "output_type": "stream",
     "text": [
      "True\n",
      "True\n",
      "True\n",
      "True\n",
      "711.7874344112352 711.7774344112136 \t True\n",
      "379970.34639120096 379970.33710275707 \t True\n",
      "1777.192940399982 1777.1829403938332 \t True\n",
      "2368784.4276428223 2368784.402720153 \t True\n",
      "1952.736624435056 1952.7266244328184 \t True\n",
      "2859855.97372055 2859855.952326592 \t True\n",
      "1843.9056670758873 1843.8956670840078 \t True\n",
      "2549963.4504318237 2549963.4233183833 \t True\n",
      "715.1014133283752 715.0914133287181 \t True\n",
      "383516.80710911745 383516.79706234764 \t True\n",
      "1455.1703396369703 1455.1603396425112 \t True\n",
      "1588118.7260150907 1588118.7105513816 \t True\n",
      "673.9192242603167 673.9092242604867 \t True\n",
      "340615.2419745922 340615.2319075282 \t True\n",
      "1336.3757022307254 1336.3657022330933 \t True\n",
      "1339404.982328415 1339404.9675787115 \t True\n",
      "1445.2101684873924 1445.2001684888883 \t True\n",
      "1566452.658176422 1566452.6452502334 \t True\n",
      "1218.8872695434839 1218.8772695461835 \t True\n",
      "1114246.3624477386 1114246.3486622698 \t True\n",
      "1265.583587239962 1265.57358724143 \t True\n",
      "1201257.3957443237 1201257.3785423562 \t True\n",
      "1745.734778267797 1745.7247782721458 \t True\n",
      "2285666.275024414 2285666.2511049993 \t True\n",
      "1715.4171349597163 1715.40713496088 \t True\n",
      "2206966.245174408 2206966.2290060213 \t True\n",
      "1666.7229046695866 1666.712904672349 \t True\n",
      "2083448.9583969114 2083448.929951004 \t True\n",
      "1467.298796842806 1467.288796839152 \t True\n",
      "1614702.3320198057 1614702.3099972645 \t True\n",
      "1518.1799592101015 1518.1699592053283 \t True\n",
      "1728630.0361156461 1728630.018775131 \t True\n",
      "602.3842506867368 602.3742506874947 \t True\n",
      "272141.06135070324 272141.05341849057 \t True\n",
      "993.829143390758 993.8191433905693 \t True\n",
      "740757.3804259299 740757.3673271736 \t True\n",
      "1510.7072049286216 1510.697204921803 \t True\n",
      "1711654.5617580411 1711654.5337189108 \t True\n",
      "209.09217975713545 209.0821797569684 \t True\n",
      "32786.52154840529 32786.51841894393 \t True\n"
     ]
    }
   ],
   "source": [
    "import sys\n",
    "sys.float_info.epsilon # epsilon maszynowy\n",
    "\n",
    "\"\"\"\n",
    "    Zwraca pochodną funkcji w punkcie, wg. wzoru f'(x) = [f(x+h) - f(x)]/h, \n",
    "    gdzie h jest parametrem dekoratora, jeśli nie zostanie podany, należy przyjąć 1000 * epsilon maszynowy\n",
    "    \"\"\"\n",
    "def derivate(h=sys.float_info.epsilon*1000):\n",
    "    def decorator(function):   \n",
    "        def wrapper(*args,**kwargs):\n",
    "            res1=function(args[0]+h)\n",
    "            res2=function(*args)\n",
    "            return (res1-res2)/h\n",
    "        return wrapper\n",
    "    return decorator\n",
    "\n",
    "@derivate(0.01)\n",
    "def f(x):\n",
    "    return x*x\n",
    "\n",
    "@derivate(0.00001)\n",
    "def g(x):\n",
    "    return x*x*x+3\n",
    "\n",
    "def test(a, b, eps=1):\n",
    "    return abs(round(a)-round(b)) < eps\n",
    "\n",
    "print(test(f(100), 200.0))\n",
    "print(round(f(0)) == 0.0)\n",
    "\n",
    "print(test(g(100), 30000.0))\n",
    "print(round(g(0)) == 0.0)\n",
    "\n",
    "from random import random\n",
    "for x in [random()*1000. for _ in range(20)]:\n",
    "    print(f(x), 2*x, '\\t', test(f(x), 2*x))\n",
    "    print(g(x), 3*x**2, '\\t', test(g(x), 3*x**2))"
   ]
  },
  {
   "cell_type": "markdown",
   "metadata": {},
   "source": [
    "## Zadanie 4 (Igor Sieradzki)"
   ]
  },
  {
   "cell_type": "markdown",
   "metadata": {},
   "source": [
    "Dopisz definicje dekoratora _accepts_ wg. instrukcji w _docstringu_"
   ]
  },
  {
   "cell_type": "code",
   "execution_count": 59,
   "metadata": {
    "collapsed": true
   },
   "outputs": [
    {
     "name": "stdout",
     "output_type": "stream",
     "text": [
      "True\n",
      "False\n",
      "True\n",
      "True\n",
      "True\n",
      "False\n",
      "False\n"
     ]
    }
   ],
   "source": [
    "def accepts(*types):\n",
    "    \"\"\"Sprawdza czy udekorowanej funckji zostały podane odpowiednie parametry zdefiniowane \n",
    "       w argumentach dekoratora\"\"\"\n",
    "    def decorator(func):\n",
    "        def wrapper(*args,**kwargs):\n",
    "            for a,t in zip(args,types):\n",
    "                if not isinstance(a, t):\n",
    "                    raise TypeError\n",
    "            for a, t in zip(kwargs.values(), types[len(args):]):\n",
    "                if not isinstance(a, t):\n",
    "                    raise TypeError\n",
    "            val=func(*args,**kwargs)\n",
    "            return val\n",
    "        return wrapper\n",
    "    return decorator\n",
    "\n",
    "@accepts(str)\n",
    "def capitalize(word):\n",
    "    return word[0].upper() + word[1:]\n",
    "\n",
    "print(capitalize('ola') == 'Ola')\n",
    "\n",
    "try:\n",
    "    capitalize(2)\n",
    "except TypeError:\n",
    "    print(False)\n",
    "\n",
    "@accepts(float, int)\n",
    "def static_pow(base, exp):\n",
    "    return base ** exp \n",
    "\n",
    "print(static_pow(2., 2) == 4.)\n",
    "print(static_pow(2., exp=2) == 4.)\n",
    "print(static_pow(base=2., exp=2) == 4.)\n",
    "\n",
    "try:\n",
    "    static_pow('x', 10)\n",
    "except TypeError:\n",
    "    print(False)\n",
    "    \n",
    "try:\n",
    "    static_pow(2, 2.2)\n",
    "except TypeError:\n",
    "    print(False)\n"
   ]
  },
  {
   "cell_type": "markdown",
   "metadata": {},
   "source": [
    "## Zadanie 5 (Igor Sieradzki)"
   ]
  },
  {
   "cell_type": "markdown",
   "metadata": {},
   "source": [
    "Dopisz definicje dekoratora _returns_ wg. instrukcji w _docstringu_"
   ]
  },
  {
   "cell_type": "code",
   "execution_count": 33,
   "metadata": {
    "collapsed": true
   },
   "outputs": [
    {
     "name": "stdout",
     "output_type": "stream",
     "text": [
      "True\n",
      "True\n",
      "True\n",
      "True\n"
     ]
    }
   ],
   "source": [
    "def returns(*types):\n",
    "    \"\"\"Sprawdza czy udekorowana funkcja zwraca poprawne argumenty, zdefiniowane w parametrach dekoratora\"\"\"\n",
    "    def decorator(func):\n",
    "        def wrapper(*args,**kwargs):\n",
    "            val=func(*args,**kwargs)\n",
    "            for i in zip(val,types):\n",
    "                if not isinstance(i[0], i[1]):\n",
    "                    raise TypeError\n",
    "            return val\n",
    "        return wrapper\n",
    "    return decorator\n",
    "\n",
    "\n",
    "\n",
    "@returns(str)\n",
    "def str_only_identity(word):\n",
    "    return word\n",
    "\n",
    "print(str_only_identity('hello') == 'hello')\n",
    "\n",
    "try:\n",
    "    str_only_identity(10)\n",
    "except TypeError:\n",
    "    print(True)\n",
    "    \n",
    "@returns(int, int)\n",
    "def split_indices(x):\n",
    "    return x[0], x[1]\n",
    "\n",
    "print(split_indices(x=[6,9]) == (6,9))\n",
    "\n",
    "try:\n",
    "    split_indices('AB')\n",
    "except TypeError:\n",
    "    print(True)"
   ]
  },
  {
   "cell_type": "markdown",
   "metadata": {},
   "source": [
    "## Zadanie 6 (Igor Sieradzki)\n",
    "Stwórz dekorator cached służący do cachowania wywołań dowolnej funkcji, tzn. chcemy by:\n",
    "* wywołanie funkcji z określonymi argumentami miało miejsce tylko raz\n",
    "* funkcja mogła przyjmować dowolną liczbę nazwanych i nienazwanych argumentów\n",
    "* nie musi reagować poprawnie na domyślne argumenty, tzn. wywołanie funkcji z domyślnymi argumentami a podanie dokładnie takich samych może być traktowane jako dwa różne wywołania\n",
    "* na opakowanej funkcji można wywołać `.cache_reset()`, który usunie cache z pamięci\n",
    "* wywołanie `.cache_status()` zwraca string z opisem w postaci: <br>\n",
    "    `Function FUNCTION_NAME called X times, evaluated Y times`"
   ]
  },
  {
   "cell_type": "code",
   "execution_count": 56,
   "metadata": {
    "collapsed": true
   },
   "outputs": [
    {
     "name": "stdout",
     "output_type": "stream",
     "text": [
      "\n"
     ]
    },
    {
     "ename": "TypeError",
     "evalue": "sorted expected 1 argument, got 0",
     "output_type": "error",
     "traceback": [
      "\u001b[1;31m---------------------------------------------------------------------------\u001b[0m",
      "\u001b[1;31mTypeError\u001b[0m                                 Traceback (most recent call last)",
      "\u001b[1;32mc:\\Users\\musia\\OneDrive\\Pulpit\\UJ_projects\\python\\effective-python-labs-uj\\lab04.ipynb Cell 25\u001b[0m line \u001b[0;36m4\n\u001b[0;32m     <a href='vscode-notebook-cell:/c%3A/Users/musia/OneDrive/Pulpit/UJ_projects/python/effective-python-labs-uj/lab04.ipynb#X33sZmlsZQ%3D%3D?line=38'>39</a>\u001b[0m \u001b[39m@cached\u001b[39m\n\u001b[0;32m     <a href='vscode-notebook-cell:/c%3A/Users/musia/OneDrive/Pulpit/UJ_projects/python/effective-python-labs-uj/lab04.ipynb#X33sZmlsZQ%3D%3D?line=39'>40</a>\u001b[0m \u001b[39mdef\u001b[39;00m \u001b[39mfoo\u001b[39m(x, y\u001b[39m=\u001b[39m\u001b[39m1\u001b[39m, z\u001b[39m=\u001b[39m\u001b[39m4\u001b[39m):\n\u001b[0;32m     <a href='vscode-notebook-cell:/c%3A/Users/musia/OneDrive/Pulpit/UJ_projects/python/effective-python-labs-uj/lab04.ipynb#X33sZmlsZQ%3D%3D?line=40'>41</a>\u001b[0m     \u001b[39mreturn\u001b[39;00m random()\n\u001b[1;32m---> <a href='vscode-notebook-cell:/c%3A/Users/musia/OneDrive/Pulpit/UJ_projects/python/effective-python-labs-uj/lab04.ipynb#X33sZmlsZQ%3D%3D?line=42'>43</a>\u001b[0m \u001b[39mprint\u001b[39m(foo(\u001b[39m3\u001b[39;49m) \u001b[39m==\u001b[39m foo(\u001b[39m3\u001b[39m))\n\u001b[0;32m     <a href='vscode-notebook-cell:/c%3A/Users/musia/OneDrive/Pulpit/UJ_projects/python/effective-python-labs-uj/lab04.ipynb#X33sZmlsZQ%3D%3D?line=43'>44</a>\u001b[0m \u001b[39mprint\u001b[39m(foo(\u001b[39m4\u001b[39m) \u001b[39m==\u001b[39m foo(\u001b[39m4\u001b[39m))\n\u001b[0;32m     <a href='vscode-notebook-cell:/c%3A/Users/musia/OneDrive/Pulpit/UJ_projects/python/effective-python-labs-uj/lab04.ipynb#X33sZmlsZQ%3D%3D?line=44'>45</a>\u001b[0m \u001b[39mprint\u001b[39m(foo(\u001b[39m3\u001b[39m, z\u001b[39m=\u001b[39m\u001b[39m-\u001b[39m\u001b[39m1\u001b[39m, y\u001b[39m=\u001b[39m\u001b[39m3\u001b[39m) \u001b[39m==\u001b[39m foo(\u001b[39m3\u001b[39m, y\u001b[39m=\u001b[39m\u001b[39m3\u001b[39m, z\u001b[39m=\u001b[39m\u001b[39m-\u001b[39m\u001b[39m1\u001b[39m))\n",
      "\u001b[1;32mc:\\Users\\musia\\OneDrive\\Pulpit\\UJ_projects\\python\\effective-python-labs-uj\\lab04.ipynb Cell 25\u001b[0m line \u001b[0;36m1\n\u001b[0;32m     <a href='vscode-notebook-cell:/c%3A/Users/musia/OneDrive/Pulpit/UJ_projects/python/effective-python-labs-uj/lab04.ipynb#X33sZmlsZQ%3D%3D?line=10'>11</a>\u001b[0m \u001b[39mself\u001b[39m\u001b[39m.\u001b[39mcalled\u001b[39m+\u001b[39m\u001b[39m=\u001b[39m\u001b[39m1\u001b[39m\n\u001b[0;32m     <a href='vscode-notebook-cell:/c%3A/Users/musia/OneDrive/Pulpit/UJ_projects/python/effective-python-labs-uj/lab04.ipynb#X33sZmlsZQ%3D%3D?line=11'>12</a>\u001b[0m \u001b[39mprint\u001b[39m(\u001b[39m*\u001b[39mkwargs\u001b[39m.\u001b[39mitems())\n\u001b[1;32m---> <a href='vscode-notebook-cell:/c%3A/Users/musia/OneDrive/Pulpit/UJ_projects/python/effective-python-labs-uj/lab04.ipynb#X33sZmlsZQ%3D%3D?line=12'>13</a>\u001b[0m \u001b[39mif\u001b[39;00m (\u001b[39m*\u001b[39margs,\u001b[39msorted\u001b[39;49m(\u001b[39m*\u001b[39;49mkwargs\u001b[39m.\u001b[39;49mitems())) \u001b[39mnot\u001b[39;00m \u001b[39min\u001b[39;00m \u001b[39mself\u001b[39m\u001b[39m.\u001b[39mmem\u001b[39m.\u001b[39mkeys():\n\u001b[0;32m     <a href='vscode-notebook-cell:/c%3A/Users/musia/OneDrive/Pulpit/UJ_projects/python/effective-python-labs-uj/lab04.ipynb#X33sZmlsZQ%3D%3D?line=13'>14</a>\u001b[0m     res\u001b[39m=\u001b[39m\u001b[39mself\u001b[39m\u001b[39m.\u001b[39mfunc(\u001b[39m*\u001b[39margs,\u001b[39m*\u001b[39m\u001b[39m*\u001b[39mkwargs)\n\u001b[0;32m     <a href='vscode-notebook-cell:/c%3A/Users/musia/OneDrive/Pulpit/UJ_projects/python/effective-python-labs-uj/lab04.ipynb#X33sZmlsZQ%3D%3D?line=14'>15</a>\u001b[0m     \u001b[39mself\u001b[39m\u001b[39m.\u001b[39mmem[(\u001b[39m*\u001b[39margs,\u001b[39m*\u001b[39mkwargs\u001b[39m.\u001b[39mitems())]\u001b[39m=\u001b[39mres\n",
      "\u001b[1;31mTypeError\u001b[0m: sorted expected 1 argument, got 0"
     ]
    }
   ],
   "source": [
    "from random import random\n",
    "from typing import Any\n",
    "\n",
    "class cached():\n",
    "    def __init__(self,func):\n",
    "        self.mem={}\n",
    "        self.called=0\n",
    "        self.eval=0\n",
    "        self.func=func\n",
    "    def __call__(self, *args, **kwargs):\n",
    "        self.called+=1\n",
    "        print(*kwargs.items())\n",
    "        if (*args,sorted(*kwargs.items())) not in self.mem.keys():\n",
    "            res=self.func(*args,**kwargs)\n",
    "            self.mem[(*args,*kwargs.items())]=res\n",
    "            self.eval+=1\n",
    "            return res\n",
    "        else:\n",
    "            return self.mem[(*args,*kwargs.items())]\n",
    "        \n",
    "    def cache_status(self):\n",
    "        return f\"Function FUNCTION_NAME called {self.called} times, evaluated {self.eval} times\"\n",
    "    def cache_reset(self):\n",
    "        self.mem={}\n",
    "        self.called=0\n",
    "        self.eval=0\n",
    "\n",
    "\"\"\"    \n",
    "def cached(function):\n",
    "    l={}\n",
    "    def wrapper(*args,**kwargs):\n",
    "        if (*args,*kwargs.items()) not in l.keys():\n",
    "            res=function(*args,**kwargs)\n",
    "            l[(*args,*kwargs.items())]=res\n",
    "            return res\n",
    "        else:\n",
    "            return l[(*args,*kwargs.items())]\n",
    "\"\"\"\n",
    "@cached\n",
    "def foo(x, y=1, z=4):\n",
    "    return random()\n",
    "        \n",
    "print(foo(3) == foo(3))\n",
    "print(foo(4) == foo(4))\n",
    "print(foo(3, z=-1, y=3) == foo(3, y=3, z=-1))\n",
    "print(foo(3) != foo(x=3))\n",
    "a = foo(3)\n",
    "foo.cache_reset()\n",
    "print(a != foo(3))\n",
    "print(foo.cache_status() == 'Function foo called 10 times, evaluated 5 times')"
   ]
  },
  {
   "cell_type": "markdown",
   "metadata": {},
   "source": [
    "## Zadanie 7 (Krzysztof Hajto)"
   ]
  },
  {
   "cell_type": "markdown",
   "metadata": {},
   "source": [
    "Napisz dekorator który będzie robić n-krotne złożenie funkcji, gdzie n jest parametrem dekoratora"
   ]
  },
  {
   "cell_type": "code",
   "execution_count": 34,
   "metadata": {
    "collapsed": true
   },
   "outputs": [
    {
     "name": "stdout",
     "output_type": "stream",
     "text": [
      "True\n",
      "True\n",
      "True\n"
     ]
    }
   ],
   "source": [
    "def zlozenie(n):\n",
    "    def decorator(function):\n",
    "        def wrapper(*args,**kwargs):\n",
    "            f=function(*args,**kwargs)\n",
    "            for i in range(n-1):\n",
    "                f=function(f)\n",
    "            return f\n",
    "        return wrapper\n",
    "    return decorator\n",
    "\n",
    "@zlozenie(3)\n",
    "def f1(x):\n",
    "    return x+1\n",
    "\n",
    "@zlozenie(2)\n",
    "def f2(x):\n",
    "    return x*x\n",
    "\n",
    "@zlozenie(5)\n",
    "def f3(word):\n",
    "    return \"\".join(chr(ord(l)+1) for l in word)\n",
    "\n",
    "print(f1(2)==5)\n",
    "print(f2(3)==81)\n",
    "print(f3(\"alamakota\")==\"fqfrfptyf\")"
   ]
  },
  {
   "cell_type": "markdown",
   "metadata": {},
   "source": [
    "## Zadanie 8 (Krzysztof Hajto)"
   ]
  },
  {
   "cell_type": "markdown",
   "metadata": {},
   "source": [
    "Python nie ma wbudowanej instrukcji switch. Ale posiada anonimowe funkcje oraz słowniki. Zaimplementuj poniższy switch w postaci słownika funkcji.\n",
    "`\n",
    "int my_function(x, y) {\n",
    "\n",
    "\n",
    "    switch(x) {\n",
    "        case 1: return y*y;\n",
    "        case 2: return x+y;\n",
    "        case 3: return x*y;\n",
    "        case 4: return 0;\n",
    "    }\n",
    "}\n",
    "`\n",
    "\n",
    "PS. Nigdy nie róbcie tego w faktycznym kodzie :)"
   ]
  },
  {
   "cell_type": "code",
   "execution_count": 35,
   "metadata": {
    "collapsed": true
   },
   "outputs": [
    {
     "name": "stdout",
     "output_type": "stream",
     "text": [
      "True\n",
      "True\n",
      "True\n",
      "True\n"
     ]
    }
   ],
   "source": [
    "def my_function(x, y):\n",
    "    d={\n",
    "        1:lambda x,y: y*y,\n",
    "        2:lambda x,y:x+y,\n",
    "        3:lambda x,y:x*y,\n",
    "        4:lambda x,y:0\n",
    "    }\n",
    "    return d[x](x,y)\n",
    "\n",
    "print(my_function(1,3)==9)\n",
    "print(my_function(2,4)==6)\n",
    "print(my_function(3,1)==3)\n",
    "print(my_function(4,9)==0)"
   ]
  },
  {
   "cell_type": "code",
   "execution_count": null,
   "metadata": {},
   "outputs": [],
   "source": []
  }
 ],
 "metadata": {
  "kernelspec": {
   "display_name": "Python 3",
   "language": "python",
   "name": "python3"
  },
  "language_info": {
   "codemirror_mode": {
    "name": "ipython",
    "version": 3
   },
   "file_extension": ".py",
   "mimetype": "text/x-python",
   "name": "python",
   "nbconvert_exporter": "python",
   "pygments_lexer": "ipython3",
   "version": "3.11.2"
  }
 },
 "nbformat": 4,
 "nbformat_minor": 2
}
