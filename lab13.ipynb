{
 "cells": [
  {
   "cell_type": "markdown",
   "metadata": {},
   "source": [
    "# Laboratorium 9"
   ]
  },
  {
   "cell_type": "markdown",
   "metadata": {},
   "source": [
    "### 0. Wczytanie danych\n",
    "Używając metody `load_svmlight_file` z modułu `sklearn` załaduj plik `lab13_files/breast_cancer`, który składa się z 2 elementów: macierzy `X` o wymiarach `683 x 10` oraz wektora `y` o dlugosci `683`. Macierz `X` opisuje badania 683 pacjentow, a wektor `y` ich diagnozy. "
   ]
  },
  {
   "cell_type": "code",
   "execution_count": null,
   "metadata": {},
   "outputs": [],
   "source": []
  },
  {
   "cell_type": "code",
   "execution_count": 4,
   "metadata": {
    "collapsed": true
   },
   "outputs": [],
   "source": [
    "from sklearn.datasets import load_svmlight_file\n",
    "import numpy as np\n",
    "X, y = load_svmlight_file('lab13_files/breast-cancer')\n",
    "X = X.toarray()"
   ]
  },
  {
   "cell_type": "markdown",
   "metadata": {},
   "source": [
    "### 1. Preprocessing\n",
    "1.1 Korzystajac z `numpy.where` przenumeruj wektor y, tzn zamień wartości 2 i 4 na -1 i +1. \n",
    "\n",
    "1.2 Przeskaluj macierz X, tak żeby wartości w każdej kolumnie mieściły się w zakresie [0,1], innymi słowy przeskaluj niezależnie każdą kolumne $X_j$ wg wzoru:\n",
    "\n",
    "\n",
    "$$\n",
    "X_j = \\frac{X_j-\\min(X_j)}{\\max(X_j)-\\min(X_j)}\n",
    "$$"
   ]
  },
  {
   "cell_type": "code",
   "execution_count": 5,
   "metadata": {},
   "outputs": [
    {
     "data": {
      "text/plain": [
       "array([-1, -1, -1, -1, -1,  1, -1, -1, -1, -1, -1, -1,  1, -1,  1,  1, -1,\n",
       "       -1,  1, -1,  1,  1, -1, -1,  1, -1, -1, -1, -1, -1, -1,  1, -1, -1,\n",
       "       -1,  1, -1,  1,  1,  1,  1,  1,  1, -1,  1, -1, -1,  1,  1,  1,  1,\n",
       "        1,  1,  1,  1,  1,  1,  1,  1, -1,  1,  1, -1,  1, -1,  1,  1, -1,\n",
       "       -1,  1, -1,  1,  1, -1, -1, -1, -1, -1, -1, -1, -1, -1,  1,  1,  1,\n",
       "        1, -1, -1, -1, -1, -1, -1, -1, -1, -1, -1,  1,  1,  1,  1, -1,  1,\n",
       "        1,  1,  1,  1, -1,  1, -1,  1,  1,  1, -1, -1, -1,  1, -1, -1, -1,\n",
       "       -1,  1,  1,  1, -1,  1, -1,  1, -1, -1, -1,  1, -1, -1, -1, -1, -1,\n",
       "       -1, -1, -1,  1, -1, -1,  1, -1, -1,  1, -1,  1,  1, -1, -1,  1, -1,\n",
       "       -1,  1,  1, -1, -1, -1, -1,  1,  1, -1, -1, -1, -1, -1,  1,  1,  1,\n",
       "       -1,  1, -1,  1, -1, -1, -1,  1,  1, -1,  1,  1,  1, -1,  1,  1, -1,\n",
       "       -1, -1, -1, -1, -1, -1, -1,  1,  1, -1, -1, -1,  1,  1, -1, -1, -1,\n",
       "        1,  1, -1,  1,  1,  1, -1, -1,  1, -1, -1,  1,  1,  1,  1, -1,  1,\n",
       "        1, -1,  1,  1,  1, -1,  1, -1,  1,  1,  1,  1, -1, -1, -1, -1, -1,\n",
       "       -1,  1,  1, -1, -1,  1, -1,  1,  1,  1, -1, -1, -1, -1,  1,  1,  1,\n",
       "        1,  1, -1,  1,  1,  1, -1,  1, -1,  1,  1, -1, -1, -1, -1,  1, -1,\n",
       "       -1,  1,  1,  1,  1,  1, -1,  1,  1, -1, -1,  1,  1, -1, -1,  1,  1,\n",
       "       -1,  1, -1,  1,  1, -1, -1,  1, -1, -1, -1,  1, -1, -1,  1,  1, -1,\n",
       "       -1,  1, -1,  1, -1, -1,  1, -1,  1,  1,  1, -1, -1,  1,  1, -1,  1,\n",
       "       -1, -1,  1,  1, -1, -1, -1,  1, -1, -1, -1,  1,  1, -1, -1, -1,  1,\n",
       "       -1, -1,  1,  1,  1,  1,  1,  1, -1, -1, -1, -1,  1,  1, -1, -1, -1,\n",
       "       -1, -1, -1, -1, -1, -1, -1, -1, -1, -1,  1, -1, -1, -1, -1,  1, -1,\n",
       "       -1, -1, -1,  1, -1, -1, -1, -1, -1, -1, -1, -1,  1, -1, -1, -1, -1,\n",
       "       -1, -1, -1, -1, -1, -1,  1, -1,  1, -1,  1, -1, -1, -1, -1,  1, -1,\n",
       "       -1, -1,  1, -1,  1, -1, -1, -1, -1, -1, -1, -1,  1,  1, -1, -1, -1,\n",
       "        1, -1, -1, -1, -1, -1, -1, -1, -1,  1, -1, -1, -1,  1, -1,  1,  1,\n",
       "        1, -1, -1, -1, -1, -1, -1, -1,  1,  1,  1, -1, -1, -1, -1, -1, -1,\n",
       "       -1, -1, -1, -1, -1,  1, -1, -1,  1,  1, -1, -1, -1,  1,  1,  1, -1,\n",
       "        1, -1,  1, -1, -1, -1, -1, -1, -1, -1, -1, -1, -1, -1, -1,  1, -1,\n",
       "       -1, -1, -1, -1, -1, -1,  1,  1, -1, -1, -1,  1, -1, -1,  1,  1, -1,\n",
       "       -1, -1, -1, -1, -1,  1, -1, -1, -1, -1, -1, -1, -1, -1, -1, -1, -1,\n",
       "       -1, -1, -1, -1,  1, -1, -1,  1, -1, -1, -1, -1, -1, -1, -1, -1, -1,\n",
       "       -1, -1, -1, -1, -1, -1,  1, -1, -1,  1,  1,  1,  1, -1, -1,  1, -1,\n",
       "       -1, -1, -1, -1, -1,  1,  1, -1, -1, -1,  1, -1,  1, -1,  1,  1,  1,\n",
       "       -1,  1, -1, -1, -1, -1, -1, -1, -1, -1,  1,  1,  1, -1, -1,  1, -1,\n",
       "        1,  1,  1, -1, -1, -1, -1, -1, -1, -1, -1, -1, -1, -1, -1,  1, -1,\n",
       "       -1, -1, -1, -1, -1,  1, -1, -1,  1, -1, -1, -1, -1, -1, -1, -1, -1,\n",
       "       -1, -1, -1,  1, -1, -1, -1, -1, -1, -1, -1, -1, -1,  1, -1, -1, -1,\n",
       "       -1, -1, -1, -1, -1, -1,  1,  1,  1, -1, -1, -1, -1, -1, -1, -1, -1,\n",
       "       -1,  1,  1, -1, -1, -1, -1, -1, -1, -1, -1, -1,  1, -1, -1, -1, -1,\n",
       "        1,  1,  1])"
      ]
     },
     "execution_count": 5,
     "metadata": {},
     "output_type": "execute_result"
    }
   ],
   "source": [
    "y = np.where(y == 2, -1, 1)\n",
    "y"
   ]
  },
  {
   "cell_type": "code",
   "execution_count": 6,
   "metadata": {},
   "outputs": [],
   "source": [
    "X=(X-np.min(X, axis=0, keepdims=True))/(np.max(X, axis=0, keepdims=True)-np.min(X, axis=0,keepdims=True))"
   ]
  },
  {
   "cell_type": "code",
   "execution_count": 7,
   "metadata": {},
   "outputs": [
    {
     "data": {
      "text/plain": [
       "(683, 10)"
      ]
     },
     "execution_count": 7,
     "metadata": {},
     "output_type": "execute_result"
    }
   ],
   "source": [
    "X.shape"
   ]
  },
  {
   "cell_type": "code",
   "execution_count": null,
   "metadata": {
    "collapsed": true
   },
   "outputs": [],
   "source": []
  },
  {
   "cell_type": "markdown",
   "metadata": {},
   "source": [
    "### 2. Wizualizacja\n",
    "Narysuj dane używajac biblioteki `matplotlib`. Użyj wymiarów 1 i 2 z macierzy X, a jako kolory użyj wektora y. Pobaw sie parametrami \"s\" oraz \"alpha\" metody `plt.scatter` żeby uzyskać czytelną wizualizacje, np. taką jak poniżej."
   ]
  },
  {
   "cell_type": "markdown",
   "metadata": {},
   "source": [
    "<img src=\"lab13_files/d.png\">"
   ]
  },
  {
   "cell_type": "code",
   "execution_count": 13,
   "metadata": {
    "collapsed": true
   },
   "outputs": [
    {
     "data": {
      "image/png": "[encoded data removed]",
      "text/plain": [
       "<Figure size 640x480 with 1 Axes>"
      ]
     },
     "metadata": {},
     "output_type": "display_data"
    }
   ],
   "source": [
    "%matplotlib inline\n",
    "import matplotlib.pyplot as plt\n",
    "import matplotlib.patches as mpatches\n",
    "\n",
    "x_dim1 = X[:, 1]\n",
    "x_dim2 = X[:, 2]\n",
    "colors = np.where(y == 1, 'green', 'purple')\n",
    "plt.scatter(x_dim1, x_dim2, c=colors, s = 150 , alpha=0.5)\n",
    "\n",
    "green_patch = mpatches.Patch(color='green', label='Positive')\n",
    "purple_patch = mpatches.Patch(color='purple', label='Negative')\n",
    "plt.legend(handles=[green_patch, purple_patch])\n",
    "\n",
    "\n",
    "plt.show()\n"
   ]
  },
  {
   "cell_type": "markdown",
   "metadata": {},
   "source": [
    "### 3. Regresja \n",
    "\n",
    "Przeprowadź regresje liniową wg wzoru:\n",
    "$$\n",
    "\\beta = (X^TX)^{-1}X^Ty\n",
    "$$"
   ]
  },
  {
   "cell_type": "code",
   "execution_count": 53,
   "metadata": {
    "collapsed": true
   },
   "outputs": [],
   "source": [
    "X_Transposed=X.T\n",
    "W=np.linalg.inv(X_Transposed@X)@X_Transposed@y"
   ]
  },
  {
   "cell_type": "code",
   "execution_count": 54,
   "metadata": {},
   "outputs": [
    {
     "data": {
      "text/plain": [
       "array([-0.70697451,  0.38471454, -0.57953311,  0.89557788, -0.67250453,\n",
       "        1.34213317,  0.22141611, -0.6096382 , -0.51920739, -0.55920702,\n",
       "       -0.57847392, -0.63014819, -0.0788399 , -0.45897371,  0.78459611,\n",
       "       -0.3703507 , -0.67689863, -0.71287414,  0.86906318, -0.75356641,\n",
       "        0.39641477,  0.45360535, -0.661026  , -0.65762986,  0.33324249,\n",
       "       -0.49001179, -0.70657234, -0.64648443, -0.49944229, -0.60194037,\n",
       "       -0.68411749,  0.15217662, -0.67398665, -0.62391759, -0.65268   ,\n",
       "        0.61949938, -0.73528893,  0.86230921,  0.23679183, -0.18894761,\n",
       "        1.09818868, -0.49978913,  0.48086132, -0.62683898,  1.21555589,\n",
       "       -0.64626685, -0.71903504,  1.17919895,  0.22084337,  0.02860749,\n",
       "        0.37411034,  0.15209273, -0.05573725,  0.45205061,  1.41430777,\n",
       "       -0.63236481, -0.04259914, -0.18584166,  0.25110822, -0.55610441,\n",
       "        0.79914628, -0.10848918, -0.65183973, -0.22745361, -0.74805046,\n",
       "        0.437938  ,  0.74482267, -0.63707961, -0.64189544,  0.28211211,\n",
       "       -0.4560305 ,  0.69457664,  0.12356549, -0.53549888, -0.52021329,\n",
       "       -0.51037208, -0.54575872, -0.74884973, -0.63708153, -0.71506607,\n",
       "       -0.672629  , -0.78980351,  0.86570938,  0.79747452,  0.3343377 ,\n",
       "        1.05478047, -0.76642769, -0.74736657, -0.70815563, -0.66635281,\n",
       "       -0.76925018, -0.67380893, -0.73046203, -0.71222715, -0.65060399,\n",
       "       -0.79356884,  0.62929665,  0.9381372 , -0.14370783,  0.28848766,\n",
       "       -0.72764815, -0.86921344,  0.40694142, -0.1534712 ,  1.41291803,\n",
       "        0.96953956, -0.57477671,  0.75866981, -0.33649362,  0.41666095,\n",
       "        0.37851711,  0.48948946, -0.3009267 , -0.26525586, -0.39708111,\n",
       "        0.87647964, -0.5888305 , -0.55265937, -0.65913814, -0.57296606,\n",
       "        0.9170967 ,  0.1015954 ,  0.23957691, -0.68329505,  0.63069163,\n",
       "       -0.75921842,  0.59310356, -1.18031845, -0.6714947 , -0.74056614,\n",
       "        1.37687162, -0.67263369, -0.79230519, -0.60036951, -0.74675917,\n",
       "       -0.69127362, -0.70050733, -0.69185138, -0.67194746,  0.13204773,\n",
       "       -0.27091702, -0.70749826,  0.12887802, -0.65931546, -0.83982434,\n",
       "        0.88260908, -0.65849865,  0.12035127,  1.01294081, -0.52502328,\n",
       "       -0.65527139,  0.666517  , -0.53577717, -0.74756202,  1.44954584,\n",
       "        0.98576577, -0.73677162, -0.7697932 , -0.27935642, -0.64197556,\n",
       "        1.07159434,  0.2810454 , -0.7705094 , -0.58173629, -0.70032197,\n",
       "       -0.73098991, -0.69602366,  1.47777706,  0.5818817 ,  0.87773609,\n",
       "       -0.75206713,  0.66153554, -0.79243969,  0.11427769, -0.66613811,\n",
       "       -0.66245794, -0.83410882,  1.24852337,  0.70456765, -0.6878119 ,\n",
       "        0.89180929,  0.79517643,  0.92829765, -0.53241262,  1.30645286,\n",
       "        0.90989867, -0.78245136, -0.73739861, -0.77770849, -0.79781876,\n",
       "        0.32326212, -0.78357206, -0.6676035 , -0.74344485,  1.00882829,\n",
       "        0.35645997, -0.73985177, -0.82034718, -0.74001737,  1.67937044,\n",
       "        0.72167841, -0.6743731 , -0.6743731 , -0.75509941,  1.67950361,\n",
       "        1.2225073 , -0.74161902,  1.50351107,  1.39560176,  0.77671001,\n",
       "       -0.7077827 , -0.74323635,  0.83055164, -0.7506932 , -0.7320884 ,\n",
       "        0.37615378, -0.29875954,  0.4472675 ,  0.84897562, -0.70985242,\n",
       "        0.79862889,  0.90114017, -0.67931023,  1.09218087,  0.40470052,\n",
       "        0.91228459, -0.29880647,  0.25562267, -0.32558352,  1.13230795,\n",
       "        0.55319102,  1.73342786,  0.34375337, -0.4949318 , -0.72125134,\n",
       "       -0.79134266,  0.13928069, -0.77567951, -0.75040749,  2.05452678,\n",
       "        1.0160122 ,  0.01318862,  0.02678788,  1.11792342,  0.66299891,\n",
       "        1.09818868,  0.79914628,  0.98728002, -0.69127048, -0.7266489 ,\n",
       "       -0.7705094 ,  1.25243262,  1.20804097,  1.55899207,  1.67475005,\n",
       "        0.86261494,  0.46295025, -0.60914959,  1.21139622,  0.75499745,\n",
       "        1.14068703, -0.30530302,  1.3933563 , -0.39950913,  0.75499745,\n",
       "        0.12614996, -0.31672578, -0.33595915, -0.30500897, -0.34248636,\n",
       "        0.94788837, -0.39837919, -0.36684724,  1.08628579,  0.91250108,\n",
       "        1.37678614,  1.55633537,  1.88290576, -0.45510107,  0.2593904 ,\n",
       "        1.476354  , -0.32626622, -0.3974394 ,  0.92641836,  0.90719794,\n",
       "        0.40683154, -0.59063198,  0.72627353,  0.70687271, -0.43643754,\n",
       "        1.7501872 , -0.4420658 ,  0.76266419,  1.56921837, -0.45208841,\n",
       "       -0.45253349,  0.83908673, -0.18594551, -0.5131532 , -0.39279442,\n",
       "       -0.13352503, -0.39575587, -0.37008654,  0.81159892,  1.20139798,\n",
       "       -0.67897466,  0.04190766,  0.81410155, -0.52759602,  0.92075621,\n",
       "       -0.49095543, -0.23499033,  0.26730039, -0.46374931,  0.94616538,\n",
       "        0.43111809,  0.85608622, -0.5656992 , -0.33058107,  0.82054362,\n",
       "        1.16429616, -0.44749463,  0.96860968, -0.52122126, -0.37008654,\n",
       "        0.93332347,  0.5852962 , -0.52732019, -0.4788473 , -0.45907449,\n",
       "        0.47690133, -0.46534947, -0.34031757, -0.29507606, -0.09918698,\n",
       "        0.37404687, -0.52751917, -0.56152356,  0.03982862,  1.58268381,\n",
       "       -0.51566882, -0.59062043, -0.05383023,  1.20153046,  0.86425797,\n",
       "        0.45346788,  1.64006057,  1.15706562, -0.35913349,  0.07761497,\n",
       "       -0.5925129 , -0.55753568,  2.16122248,  1.92523976, -0.11878038,\n",
       "       -0.13279091, -0.18708921, -0.19776972, -0.34016752, -0.40996792,\n",
       "       -0.35517662, -0.36584108, -0.40345273, -0.34404373, -0.43116177,\n",
       "       -0.31671778, -0.4541311 ,  0.9815265 , -0.44716273, -0.58750068,\n",
       "       -0.58951973, -0.33219107,  0.73119177, -0.50920228, -0.61807009,\n",
       "       -0.65073375, -0.64817035,  1.26869124, -0.71286454, -0.57195251,\n",
       "       -0.47096892, -0.71926959, -0.75877961, -0.71862059, -0.57142146,\n",
       "       -0.46061779,  1.12475657, -0.70766315, -0.47561007, -0.42684028,\n",
       "       -0.48672328, -0.71125504, -0.61635695, -0.71367111, -0.39768764,\n",
       "       -0.70883295, -0.71548224,  0.45419875, -0.7850802 ,  0.74106833,\n",
       "       -0.13165232,  0.37533202, -0.71649882, -0.49787314, -0.68864598,\n",
       "       -0.43014679,  0.73565952, -0.40291129, -0.71288644, -0.73072885,\n",
       "        1.14342801, -0.31873857,  0.45822935, -0.73325298, -0.75547998,\n",
       "       -0.46324626, -0.9078733 , -0.76358164, -0.56980098,  0.80769152,\n",
       "        0.94578177,  0.58508481, -0.36917892, -0.26886162, -0.40975233,\n",
       "        0.40055958,  0.00894273, -0.20309449, -0.32159951, -0.56532638,\n",
       "       -0.4858275 , -0.58179798, -0.66694687, -0.58457193,  1.19593189,\n",
       "       -0.66721072, -0.74185999, -0.69137007,  0.56077885, -0.54780446,\n",
       "       -0.21450903,  0.62003404,  0.4500926 , -0.72853714, -0.6827753 ,\n",
       "       -0.75312988, -0.35534239, -0.77730332, -0.70946632, -0.76965987,\n",
       "        0.70309945,  0.65974694,  0.81064136, -0.67121925, -0.6393642 ,\n",
       "       -0.67541952, -0.75781078, -0.72440927, -0.75691768, -0.78098298,\n",
       "       -0.74605793, -0.72404691, -0.7708598 , -0.68159703,  1.10344776,\n",
       "       -0.7274603 , -0.49355221,  0.80233325,  1.4609526 , -0.47848213,\n",
       "       -0.27657265, -0.60172462,  1.15306718,  0.36889438, -0.3213052 ,\n",
       "       -0.61599168,  1.0553602 , -0.6549906 ,  1.44513381, -0.35368666,\n",
       "       -0.6541848 , -0.58413469, -0.60183533, -0.75833225, -0.76532917,\n",
       "       -0.84438271, -0.77589925, -0.77249734, -0.82575472, -0.69616477,\n",
       "       -0.52173583,  1.0889355 , -0.4243375 , -0.7915259 , -0.73129695,\n",
       "       -0.71162444, -0.82826097, -0.79291912, -0.72400251,  1.1551655 ,\n",
       "        1.40109893, -0.65649122, -0.69186964, -0.70500013,  0.66002664,\n",
       "       -0.27385457, -0.35323807,  0.32888285,  0.96004868, -0.50058319,\n",
       "       -0.46401153, -0.49574147, -0.58155208, -0.45083963, -4.36382474,\n",
       "        0.87221922, -0.4259654 , -0.49204153, -0.65386087, -0.64059551,\n",
       "       -0.55390667, -0.76602363, -0.72097068, -0.72204271, -0.76765957,\n",
       "       -0.65893731, -0.68561507, -0.50844932, -0.74789903, -0.60390933,\n",
       "       -0.77476958,  1.72761264, -0.63508491, -0.65519518,  0.55312411,\n",
       "       -0.78179627, -0.77769594, -0.63791101, -0.03662769, -0.75983654,\n",
       "       -0.29593229, -0.60507716, -0.78082085, -0.77912188, -0.83975725,\n",
       "       -0.87514142, -0.87514142, -0.79803789, -0.80310151, -0.80694194,\n",
       "        1.18955979, -0.79406325, -0.63545743,  0.37966823,  0.40398409,\n",
       "        0.54843888,  1.78936904, -0.20505708, -0.23820443,  0.83599714,\n",
       "       -0.33905554, -0.50993245, -0.43185989, -0.43192675, -0.53470943,\n",
       "       -0.55779268,  1.22072525,  1.5314101 , -0.65645723, -0.75831795,\n",
       "       -0.68083465,  1.43154563, -0.7552871 ,  0.1482889 , -0.77838199,\n",
       "        0.13803169,  0.82348328,  0.19773152, -0.7524371 ,  0.75475267,\n",
       "       -0.83882217, -0.77472306, -0.78757382, -0.80557765, -0.49493872,\n",
       "       -0.80730311, -0.70460138, -0.83460672, -0.08032783,  0.56371416,\n",
       "        1.14650361, -0.26653817, -0.24831121,  1.11275485, -0.44624978,\n",
       "        0.52479683,  0.83742525,  1.82344573, -0.40085083, -0.56128598,\n",
       "       -0.57953618, -0.6534346 , -0.68385585, -0.71015438, -0.67514783,\n",
       "       -0.51904551, -0.71532245, -0.63388623, -0.68438629, -0.37919698,\n",
       "        0.39893467, -0.29435075, -0.68728593, -0.73048882, -0.57113012,\n",
       "       -0.79476675, -0.68049875,  0.32987478, -0.73043004, -0.5920846 ,\n",
       "        0.33359411, -0.42743603, -0.7612107 , -0.75808164, -0.74211394,\n",
       "       -0.78212904, -0.78296225, -0.70956256, -0.73238039, -0.78990275,\n",
       "       -0.56201073, -0.69504457,  0.59821114, -0.79783371, -0.53200655,\n",
       "       -0.62733903, -0.78810429, -0.82108356, -0.83660141, -0.8021283 ,\n",
       "       -0.84416102, -0.4996907 ,  0.98109232, -0.73059093, -0.76864086,\n",
       "       -0.8643501 , -7.0038202 , -0.67822623, -0.78865822, -0.73742487,\n",
       "       -0.63162712, -0.84897792,  0.01421363,  1.11483233,  0.9813219 ,\n",
       "       -0.73002829, -0.83199626, -0.62226882, -0.77672697, -0.66674097,\n",
       "       -0.73529785, -0.82858439, -0.74814644, -0.76857485,  1.50849931,\n",
       "        1.5657148 , -0.84821693, -0.27727942, -0.27727942, -0.31261873,\n",
       "       -0.31374344, -0.29875986, -0.40878198, -0.2458954 , -0.35206175,\n",
       "        1.2767313 , -0.4466003 , -0.48919179, -0.45055406, -0.49321517,\n",
       "        0.95749249,  0.63866209,  0.66638137])"
      ]
     },
     "execution_count": 54,
     "metadata": {},
     "output_type": "execute_result"
    }
   ],
   "source": []
  },
  {
   "cell_type": "markdown",
   "metadata": {},
   "source": [
    "### 4. Wizualizacja Regresji\n",
    "\n",
    "Zwizualizuj dane po zrzutowaniu na $\\beta$ używajac metody `plt.hist`, tzn. narysuj histogramy $\\beta X_+$ oraz\n",
    "$\\beta X_-$ gdzie $X_+$ to wiersze $X$ dla których $y=+1$ i analogicznie $X_-$. Postaraj się wygenerować czytelny wykres podobny do tego poniżej."
   ]
  },
  {
   "cell_type": "markdown",
   "metadata": {},
   "source": [
    "<img src=\"lab13_files/lr1.png\">"
   ]
  },
  {
   "cell_type": "code",
   "execution_count": 81,
   "metadata": {
    "collapsed": true
   },
   "outputs": [],
   "source": [
    "Y_pos = X[y == 1]@W\n",
    "Y_neg = X[y ==-1]@W"
   ]
  },
  {
   "cell_type": "code",
   "execution_count": 125,
   "metadata": {},
   "outputs": [
    {
     "data": {
      "text/plain": [
       "(array([[ 0.,  0.,  1.,  0.,  0.,  0.,  1.,  0.,  1.,  0.,  0.,  1.,  2.,\n",
       "          2.,  2.,  4.,  5.,  1.,  2.,  3.,  8.,  2.,  9.,  6., 11., 13.,\n",
       "          4.,  6.,  7.,  8.,  8., 10., 15., 13., 14., 10.,  3., 11.,  8.,\n",
       "          9.,  3.,  2.,  6.,  5.,  4.,  5.,  1.,  4.,  3.,  1.,  1.,  1.,\n",
       "          1.,  0.,  1.,  0.,  1.],\n",
       "        [ 0.,  1., 14., 42., 76., 71., 43., 38., 29., 31., 22., 21., 22.,\n",
       "          7.,  5.,  3.,  0.,  2.,  4.,  1.,  1.,  1.,  0.,  1.,  1.,  1.,\n",
       "          0.,  0.,  0.,  1.,  0.,  0.,  1.,  1.,  0.,  0.,  0.,  0.,  0.,\n",
       "          0.,  1.,  0.,  0.,  0.,  0.,  0.,  0.,  0.,  0.,  0.,  0.,  0.,\n",
       "          0.,  0.,  0.,  0.,  0.]]),\n",
       " array([-1.        , -0.94385965, -0.8877193 , -0.83157895, -0.7754386 ,\n",
       "        -0.71929825, -0.66315789, -0.60701754, -0.55087719, -0.49473684,\n",
       "        -0.43859649, -0.38245614, -0.32631579, -0.27017544, -0.21403509,\n",
       "        -0.15789474, -0.10175439, -0.04561404,  0.01052632,  0.06666667,\n",
       "         0.12280702,  0.17894737,  0.23508772,  0.29122807,  0.34736842,\n",
       "         0.40350877,  0.45964912,  0.51578947,  0.57192982,  0.62807018,\n",
       "         0.68421053,  0.74035088,  0.79649123,  0.85263158,  0.90877193,\n",
       "         0.96491228,  1.02105263,  1.07719298,  1.13333333,  1.18947368,\n",
       "         1.24561404,  1.30175439,  1.35789474,  1.41403509,  1.47017544,\n",
       "         1.52631579,  1.58245614,  1.63859649,  1.69473684,  1.75087719,\n",
       "         1.80701754,  1.86315789,  1.91929825,  1.9754386 ,  2.03157895,\n",
       "         2.0877193 ,  2.14385965,  2.2       ]),\n",
       " <a list of 2 list[Polygon] objects>)"
      ]
     },
     "execution_count": 125,
     "metadata": {},
     "output_type": "execute_result"
    },
    {
     "data": {
      "image/png": "[encoded data removed]",
      "text/plain": [
       "<Figure size 640x480 with 1 Axes>"
      ]
     },
     "metadata": {},
     "output_type": "display_data"
    }
   ],
   "source": [
    "plt.hist([Y_pos, Y_neg], bins=np.linspace(-1, 2.2, 58), alpha=0.8,histtype='stepfilled',color=['Green','Purple'])"
   ]
  },
  {
   "cell_type": "markdown",
   "metadata": {},
   "source": [
    "### 5. Klasyfikacja\n",
    "\n",
    "Przeprowadź \"klasyfikacje\" naszych pacjentów, ci, którzy zostali zrzutowani na wartość ujemną dostają etykiete $-1$, a ci którzy na wartość dodatnia - etykiete $+1$"
   ]
  },
  {
   "cell_type": "code",
   "execution_count": 126,
   "metadata": {
    "collapsed": true
   },
   "outputs": [],
   "source": [
    "y_pred=np.where(X@W >= 0,1,-1)"
   ]
  },
  {
   "cell_type": "markdown",
   "metadata": {},
   "source": [
    "### 6. Ewaluacja\n",
    "\n",
    "Policz jak dokładny jest ten model, tzn. jak duży jest zbiór\n",
    "$ \\{ (x_i,y_i) : \\mathrm{sign}(\\beta x_i) = y_i \\} $\n",
    "w stosunku do rozmiaru całego $y$\n",
    "\n",
    "Powinno udać się uzyskać wynik na poziomie 93-94%"
   ]
  },
  {
   "cell_type": "code",
   "execution_count": 131,
   "metadata": {
    "collapsed": true
   },
   "outputs": [
    {
     "data": {
      "text/plain": [
       "0.9487554904831625"
      ]
     },
     "execution_count": 131,
     "metadata": {},
     "output_type": "execute_result"
    }
   ],
   "source": [
    "acc=np.sum(y_pred==y)/y.shape[0]\n",
    "acc"
   ]
  },
  {
   "cell_type": "markdown",
   "metadata": {},
   "source": [
    "### 7. Regularyzacja \n",
    "Dodaj parametr `C` do regresji liniowej\n",
    "$$\n",
    "\\beta = (X^TX + \\tfrac{1}{C}I)^{-1}X^Ty\n",
    "$$\n",
    "\n",
    "gdzie $I$ - macierz identyczności. \n",
    "\n",
    "Dla jakiej wartości `C` wynik jest najlepszy? Jaki wynik udało Ci sie uzyskać?"
   ]
  },
  {
   "cell_type": "code",
   "execution_count": 153,
   "metadata": {
    "collapsed": true
   },
   "outputs": [
    {
     "name": "stdout",
     "output_type": "stream",
     "text": [
      "1e-09 0.3557833089311859\n",
      "1e-06 0.3557833089311859\n",
      "0.0001 0.3557833089311859\n",
      "0.001 0.3601756954612006\n",
      "0.01 0.8799414348462665\n",
      "0.1 0.9355783308931186\n",
      "1 0.9502196193265008\n",
      "10.0 0.9487554904831625\n",
      "100.0 0.9487554904831625\n",
      "1000.0 0.9487554904831625\n",
      "10000.0 0.9487554904831625\n",
      "1000000.0 0.9487554904831625\n",
      "1000000000.0 0.9487554904831625\n"
     ]
    }
   ],
   "source": [
    "X_Transposed = X.T\n",
    "C = [1e-9, 1e-6, 1e-4, 1e-3, 1e-2, 1e-1,1,1e1,1e2,1e3,1e4,1e6,1e9]\n",
    "for c in C:\n",
    "    W = np.linalg.inv(X_Transposed@X+1/c*np.identity(X.shape[1]))@X_Transposed@y\n",
    "    y_pred = np.where(X@W >= 0, 1, -1)\n",
    "    acc = np.sum(y_pred == y)/y.shape[0]\n",
    "    print(c,acc)"
   ]
  },
  {
   "cell_type": "code",
   "execution_count": null,
   "metadata": {},
   "outputs": [],
   "source": []
  },
  {
   "cell_type": "markdown",
   "metadata": {},
   "source": [
    "### 8. Gratulacje\n",
    "Właśnie stworzyłeś/-aś swój pierwszy klasyfikator (statystyczny model predykcji). \n",
    "\n",
    "Spróbuj zastosować go do innych danych."
   ]
  },
  {
   "cell_type": "markdown",
   "metadata": {},
   "source": [
    "### Zadanie dodatkowe\n",
    "\n",
    "Zaimplementuj powyższą metode jako klase `LRClassifier` wyposażoną w następujące metody:\n",
    "\n",
    "* konstruktor przyjmujący dwa parametry: \n",
    "    * `C` - stała z równania \n",
    "    * `scale` - zmienna boolowska (domyslnie `True`) która określa czy macierz `X` ma byc automatycznie znormalizowana (przeskalowana do `[0,1]`)\n",
    "* `.fit(X, y)` która spowoduje obliczenie $\\beta$, dla `X` - dowolnej macierzy, `y` - wektora etykiet skladajacego sie z dwóch unikalnych wartosci (mogą to byc np. 2 różne stringi)\n",
    "* `.predict(X)`, która zwróci wektor zawierajacy na `i`tej pozycji etykiete \"przewidzianą\" przez nasz model (pamiętaj o skalowaniu jesli `scale==True`!)\n",
    "\n",
    "Przykladowe użycie:\n",
    "\n",
    "    clf = LRClassifier(C=100)\n",
    "    Xt = np.array([[1, 0], [1, 1], [1, 2], [1, 3], [1, 4]])\n",
    "    yt = np.array(['x', 'x', 'y', 'y', 'y'])\n",
    "    clf.fit(Xt, yt)\n",
    "    X = np.array([[1, -1], [1, 0.9], [1, 2.1]])\n",
    "    print(clf.predict(X)) # ['x', 'x', 'y']"
   ]
  },
  {
   "cell_type": "code",
   "execution_count": 230,
   "metadata": {},
   "outputs": [],
   "source": [
    "class LRClassifier:\n",
    "    def __init__(self,C,scale=True):\n",
    "        self.C=C\n",
    "        self.scale=scale\n",
    "        self.X=None\n",
    "        self.y=None\n",
    "        self.W=None\n",
    "        self.values=None\n",
    "        self.min=None\n",
    "        self.max=None\n",
    "    def fit(self,X,y):\n",
    "        self.X=X\n",
    "        self\n",
    "        if self.scale:\n",
    "            self.min = np.min(X, axis=0, keepdims=True)\n",
    "            self.max = np.max(X, axis=0, keepdims=True)\n",
    "            self.X = (X-self.min) / ((self.max- self.min)+1e-12)\n",
    "        self.values = np.unique(y)\n",
    "        if len(self.values)>2:\n",
    "            exit(0)\n",
    "        self.y = np.where(y == self.values[0], 1, -1)\n",
    "        X_Transposed=self.X.T\n",
    "        self.W = np.linalg.inv(X_Transposed@self.X+1/self.C*np.identity(self.X.shape[1]))@X_Transposed@self.y\n",
    "    def predict(self,X):\n",
    "        if self.scale:\n",
    "            X = (X-self.min) / ((self.max - self.min)+1e-12)\n",
    "        X_pred=X@self.W\n",
    "        y_pred = np.where(X_pred >= 0, self.values[0], self.values[1])\n",
    "        return y_pred"
   ]
  },
  {
   "cell_type": "code",
   "execution_count": 231,
   "metadata": {},
   "outputs": [
    {
     "name": "stdout",
     "output_type": "stream",
     "text": [
      "[[1 0]\n",
      " [1 1]\n",
      " [1 2]\n",
      " [1 3]\n",
      " [1 4]]\n",
      "[[ 1.  -1. ]\n",
      " [ 1.   0.9]\n",
      " [ 1.   2.1]]\n",
      "[ 1.59026496  0.45517288 -0.26172738]\n",
      "['x' 'x' 'y']\n"
     ]
    }
   ],
   "source": [
    "clf = LRClassifier(C=100,scale=False)\n",
    "Xt = np.array([[1, 0], [1, 1], [1, 2], [1, 3], [1, 4]])\n",
    "yt = np.array(['x', 'x', 'y', 'y', 'y'])\n",
    "clf.fit(Xt, yt)\n",
    "X = np.array([[1, -1], [1, 0.9], [1, 2.1]])\n",
    "print(clf.predict(X))  # ['x', 'x', 'y']"
   ]
  },
  {
   "cell_type": "code",
   "execution_count": 183,
   "metadata": {},
   "outputs": [],
   "source": []
  }
 ],
 "metadata": {
  "kernelspec": {
   "display_name": "Python 3",
   "language": "python",
   "name": "python3"
  },
  "language_info": {
   "codemirror_mode": {
    "name": "ipython",
    "version": 3
   },
   "file_extension": ".py",
   "mimetype": "text/x-python",
   "name": "python",
   "nbconvert_exporter": "python",
   "pygments_lexer": "ipython3",
   "version": "3.11.2"
  }
 },
 "nbformat": 4,
 "nbformat_minor": 1
}
